{
  "nbformat": 4,
  "nbformat_minor": 0,
  "metadata": {
    "colab": {
      "provenance": []
    },
    "kernelspec": {
      "name": "python3",
      "display_name": "Python 3"
    },
    "language_info": {
      "name": "python"
    }
  },
  "cells": [
    {
      "cell_type": "code",
      "execution_count": 42,
      "metadata": {
        "id": "k8UjjXX7t5qo",
        "colab": {
          "base_uri": "https://localhost:8080/"
        },
        "outputId": "dbb0353c-05ab-4174-ed6f-8ff7f4e2bf8e"
      },
      "outputs": [
        {
          "output_type": "stream",
          "name": "stdout",
          "text": [
            "Requirement already satisfied: requests in /usr/local/lib/python3.10/dist-packages (2.32.3)\n",
            "Requirement already satisfied: charset-normalizer<4,>=2 in /usr/local/lib/python3.10/dist-packages (from requests) (3.4.0)\n",
            "Requirement already satisfied: idna<4,>=2.5 in /usr/local/lib/python3.10/dist-packages (from requests) (3.10)\n",
            "Requirement already satisfied: urllib3<3,>=1.21.1 in /usr/local/lib/python3.10/dist-packages (from requests) (2.2.3)\n",
            "Requirement already satisfied: certifi>=2017.4.17 in /usr/local/lib/python3.10/dist-packages (from requests) (2024.8.30)\n"
          ]
        }
      ],
      "source": [
        "pip install requests"
      ]
    },
    {
      "cell_type": "code",
      "source": [
        "import requests\n",
        "import csv\n",
        "from datetime import datetime"
      ],
      "metadata": {
        "id": "Ev7EQHd3u5rN"
      },
      "execution_count": 43,
      "outputs": []
    },
    {
      "cell_type": "code",
      "source": [
        "ACCESS_TOKEN = 'IGQWROYzIycW1XbmFLUWtVdlJLT2xjRDRuU0Q3aWtXb3VNWUE1NmJaNG1ic2gwM0pYUzlqYWRsOEJadktwdUtOZAGhEcFY0dVgzTi0xREM4VEVNRVBNUTl6Q0FBcTNlanc3cVVabXFhMWZAJVVpBamlXZAzRkWEVHUTQZD'\n",
        "INSTAGRAM_ACCOUNT_ID = '565694226403515'\n",
        "KEYWORD = \"#Prabowo\"\n",
        "MAX_COMMENTS = 5000"
      ],
      "metadata": {
        "id": "ueDcvFYcvWRC"
      },
      "execution_count": 44,
      "outputs": []
    },
    {
      "cell_type": "code",
      "source": [
        "def get_media_ids(instagram_account_id, access_token):\n",
        "    url = f'https://graph.facebook.com/v17.0/{instagram_account_id}/media'\n",
        "    params = {'access_token': access_token}\n",
        "    response = requests.get(url, params=params)\n",
        "    media_ids = [media['id'] for media in response.json().get('data', [])]\n",
        "    return media_ids"
      ],
      "metadata": {
        "id": "UcmD0T6BvjVO"
      },
      "execution_count": 45,
      "outputs": []
    },
    {
      "cell_type": "code",
      "source": [
        "def get_comments(media_id, access_token):\n",
        "    comments = []\n",
        "    url = f'https://graph.facebook.com/v17.0/{media_id}/comments'\n",
        "    params = {\n",
        "        'access_token': access_token,\n",
        "        'fields': 'username,text,created_time'\n",
        "    }\n",
        "    while url:\n",
        "        response = requests.get(url, params=params)\n",
        "        data = response.json()\n",
        "        for comment in data.get('data', []):\n",
        "            if KEYWORD.lower() in comment['text'].lower():\n",
        "                comments.append({\n",
        "                    'username': comment['username'],\n",
        "                    'comment': comment['text'],\n",
        "                    'timestamp': comment['created_time']\n",
        "                })\n",
        "            if len(comments) >= MAX_COMMENTS:\n",
        "                return comments\n",
        "        url = data.get('paging', {}).get('next', None)\n",
        "    return comments"
      ],
      "metadata": {
        "id": "4TyxumqIvoP4"
      },
      "execution_count": 46,
      "outputs": []
    },
    {
      "cell_type": "code",
      "source": [
        "media_ids = get_media_ids(INSTAGRAM_ACCOUNT_ID, ACCESS_TOKEN)"
      ],
      "metadata": {
        "id": "r0tiJY-Uv0DR"
      },
      "execution_count": 47,
      "outputs": []
    },
    {
      "cell_type": "code",
      "source": [
        "all_comments = []\n",
        "for media_id in media_ids:\n",
        "    comments = get_comments(media_id, ACCESS_TOKEN)\n",
        "    all_comments.extend(comments)\n",
        "    if len(all_comments) >= MAX_COMMENTS:\n",
        "        break"
      ],
      "metadata": {
        "id": "faBdjxM2v6Cy"
      },
      "execution_count": 48,
      "outputs": []
    },
    {
      "cell_type": "code",
      "source": [
        "csv_filename = \"instagram_comments.csv\"\n",
        "with open(csv_filename, mode='w', newline='', encoding='utf-8') as csv_file:\n",
        "    fieldnames = ['username', 'comment', 'timestamp']\n",
        "    writer = csv.DictWriter(csv_file, fieldnames=fieldnames)\n",
        "    writer.writeheader()\n",
        "    for comment in all_comments[:MAX_COMMENTS]:\n",
        "        writer.writerow({\n",
        "            'username': comment['username'],\n",
        "            'comment': comment['comment'],\n",
        "            'timestamp': datetime.strptime(comment['timestamp'], '%Y-%m-%dT%H:%M:%S+0000').strftime('%Y-%m-%d %H:%M:%S')\n",
        "        })\n",
        "\n",
        "print(f\"Data berhasil disimpan dalam {csv_filename}. Jumlah komentar: {len(all_comments)}\")"
      ],
      "metadata": {
        "id": "rgci4-LMwD9h",
        "colab": {
          "base_uri": "https://localhost:8080/"
        },
        "outputId": "7e5479b9-feba-47a0-bca1-c7ca6fe5e60c"
      },
      "execution_count": 49,
      "outputs": [
        {
          "output_type": "stream",
          "name": "stdout",
          "text": [
            "Data berhasil disimpan dalam instagram_comments.csv. Jumlah komentar: 0\n"
          ]
        }
      ]
    }
  ]
}